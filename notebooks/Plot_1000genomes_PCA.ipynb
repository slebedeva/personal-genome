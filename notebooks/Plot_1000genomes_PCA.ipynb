{
 "cells": [
  {
   "cell_type": "markdown",
   "metadata": {},
   "source": [
    "# Plotting your genomes' projection onto 1000 genomes data\n",
    "\n",
    "\n",
    "Before running this notebook, make sure to create the file `1000G.pca.txt`.\n",
    "\n",
    "You can do this using [akt](https://github.com/Illumina/akt) with a following command (assuming that you are in root directory of the akt): \n",
    "\n",
    "```\n",
    "akt pca --assume-homref -W ./data/wgs.grch37.vcf.gz ../../genomes/GFX00000000.filtered.snp.vcf.gz > 1000G.pca.txt\n",
    "```\n",
    "\n",
    "For the purpose of this notebook, the result is saved to `results/ancestry/1000G.pca.txt`\n",
    "\n",
    "You will also need this file from akt: `akt/data/wgs.1000G.phase3.pca`, which contains the principal component coordinates for the 1000 genomes."
   ]
  },
  {
   "cell_type": "code",
   "execution_count": 1,
   "metadata": {},
   "outputs": [],
   "source": [
    "from matplotlib import pyplot as plt\n",
    "import seaborn as sns\n",
    "import numpy as np\n",
    "import pandas as pd\n",
    "\n",
    "import os"
   ]
  },
  {
   "cell_type": "markdown",
   "metadata": {},
   "source": [
    "### Import PCA and information about populations from akt"
   ]
  },
  {
   "cell_type": "code",
   "execution_count": 3,
   "metadata": {},
   "outputs": [],
   "source": [
    "# path to akt files\n",
    "# file with ethnicity labels\n",
    "lbl_path = os.path.join(\"../../PersonalGenome\", \"src\", \"akt/data/integrated_call_samples_v3.20130502.ALL.panel\")\n",
    "# file with pca data\n",
    "akt = os.path.join(\"../../PersonalGenome\", \"src\", \"akt/data/wgs.1000G.phase3.pca\")"
   ]
  },
  {
   "cell_type": "code",
   "execution_count": 24,
   "metadata": {},
   "outputs": [],
   "source": [
    "# read in the files\n",
    "lbl = pd.read_csv(lbl_path, sep=r\"\\s+\", index_col=0)\n",
    "pc = pd.read_csv(akt, sep=r\"\\s+\", index_col=0, header=None)"
   ]
  },
  {
   "cell_type": "code",
   "execution_count": 26,
   "metadata": {},
   "outputs": [
    {
     "data": {
      "text/html": [
       "<div>\n",
       "<style scoped>\n",
       "    .dataframe tbody tr th:only-of-type {\n",
       "        vertical-align: middle;\n",
       "    }\n",
       "\n",
       "    .dataframe tbody tr th {\n",
       "        vertical-align: top;\n",
       "    }\n",
       "\n",
       "    .dataframe thead th {\n",
       "        text-align: right;\n",
       "    }\n",
       "</style>\n",
       "<table border=\"1\" class=\"dataframe\">\n",
       "  <thead>\n",
       "    <tr style=\"text-align: right;\">\n",
       "      <th></th>\n",
       "      <th>1</th>\n",
       "      <th>2</th>\n",
       "      <th>3</th>\n",
       "      <th>4</th>\n",
       "      <th>5</th>\n",
       "      <th>6</th>\n",
       "      <th>7</th>\n",
       "      <th>8</th>\n",
       "      <th>9</th>\n",
       "      <th>10</th>\n",
       "      <th>11</th>\n",
       "      <th>12</th>\n",
       "      <th>13</th>\n",
       "      <th>14</th>\n",
       "      <th>15</th>\n",
       "      <th>16</th>\n",
       "      <th>17</th>\n",
       "      <th>18</th>\n",
       "      <th>19</th>\n",
       "      <th>20</th>\n",
       "    </tr>\n",
       "    <tr>\n",
       "      <th>0</th>\n",
       "      <th></th>\n",
       "      <th></th>\n",
       "      <th></th>\n",
       "      <th></th>\n",
       "      <th></th>\n",
       "      <th></th>\n",
       "      <th></th>\n",
       "      <th></th>\n",
       "      <th></th>\n",
       "      <th></th>\n",
       "      <th></th>\n",
       "      <th></th>\n",
       "      <th></th>\n",
       "      <th></th>\n",
       "      <th></th>\n",
       "      <th></th>\n",
       "      <th></th>\n",
       "      <th></th>\n",
       "      <th></th>\n",
       "      <th></th>\n",
       "    </tr>\n",
       "  </thead>\n",
       "  <tbody>\n",
       "    <tr>\n",
       "      <th>HG00096</th>\n",
       "      <td>20.5863</td>\n",
       "      <td>38.3197</td>\n",
       "      <td>7.38349</td>\n",
       "      <td>-12.4928</td>\n",
       "      <td>1.778960</td>\n",
       "      <td>2.170390</td>\n",
       "      <td>0.047681</td>\n",
       "      <td>0.674180</td>\n",
       "      <td>-1.306390</td>\n",
       "      <td>6.48605</td>\n",
       "      <td>6.65693</td>\n",
       "      <td>2.27054</td>\n",
       "      <td>1.48416</td>\n",
       "      <td>-0.915908</td>\n",
       "      <td>6.72022</td>\n",
       "      <td>0.490435</td>\n",
       "      <td>-7.53264</td>\n",
       "      <td>11.610000</td>\n",
       "      <td>3.37071</td>\n",
       "      <td>0.577314</td>\n",
       "    </tr>\n",
       "    <tr>\n",
       "      <th>HG00097</th>\n",
       "      <td>20.4292</td>\n",
       "      <td>39.0879</td>\n",
       "      <td>6.96485</td>\n",
       "      <td>-10.2921</td>\n",
       "      <td>0.691669</td>\n",
       "      <td>0.458462</td>\n",
       "      <td>-1.351560</td>\n",
       "      <td>-0.593777</td>\n",
       "      <td>0.822316</td>\n",
       "      <td>6.65001</td>\n",
       "      <td>8.05282</td>\n",
       "      <td>-2.16934</td>\n",
       "      <td>-10.98140</td>\n",
       "      <td>-5.332690</td>\n",
       "      <td>3.26468</td>\n",
       "      <td>0.209461</td>\n",
       "      <td>-4.87626</td>\n",
       "      <td>-0.508729</td>\n",
       "      <td>-9.18354</td>\n",
       "      <td>-2.454350</td>\n",
       "    </tr>\n",
       "  </tbody>\n",
       "</table>\n",
       "</div>"
      ],
      "text/plain": [
       "              1        2        3        4         5         6         7   \\\n",
       "0                                                                           \n",
       "HG00096  20.5863  38.3197  7.38349 -12.4928  1.778960  2.170390  0.047681   \n",
       "HG00097  20.4292  39.0879  6.96485 -10.2921  0.691669  0.458462 -1.351560   \n",
       "\n",
       "               8         9        10       11       12        13        14  \\\n",
       "0                                                                            \n",
       "HG00096  0.674180 -1.306390  6.48605  6.65693  2.27054   1.48416 -0.915908   \n",
       "HG00097 -0.593777  0.822316  6.65001  8.05282 -2.16934 -10.98140 -5.332690   \n",
       "\n",
       "              15        16       17         18       19        20  \n",
       "0                                                                  \n",
       "HG00096  6.72022  0.490435 -7.53264  11.610000  3.37071  0.577314  \n",
       "HG00097  3.26468  0.209461 -4.87626  -0.508729 -9.18354 -2.454350  "
      ]
     },
     "execution_count": 26,
     "metadata": {},
     "output_type": "execute_result"
    }
   ],
   "source": [
    "pc.head(2)"
   ]
  },
  {
   "cell_type": "code",
   "execution_count": 27,
   "metadata": {},
   "outputs": [
    {
     "data": {
      "text/html": [
       "<div>\n",
       "<style scoped>\n",
       "    .dataframe tbody tr th:only-of-type {\n",
       "        vertical-align: middle;\n",
       "    }\n",
       "\n",
       "    .dataframe tbody tr th {\n",
       "        vertical-align: top;\n",
       "    }\n",
       "\n",
       "    .dataframe thead th {\n",
       "        text-align: right;\n",
       "    }\n",
       "</style>\n",
       "<table border=\"1\" class=\"dataframe\">\n",
       "  <thead>\n",
       "    <tr style=\"text-align: right;\">\n",
       "      <th></th>\n",
       "      <th>pop</th>\n",
       "      <th>super_pop</th>\n",
       "      <th>gender</th>\n",
       "    </tr>\n",
       "    <tr>\n",
       "      <th>sample</th>\n",
       "      <th></th>\n",
       "      <th></th>\n",
       "      <th></th>\n",
       "    </tr>\n",
       "  </thead>\n",
       "  <tbody>\n",
       "    <tr>\n",
       "      <th>HG00096</th>\n",
       "      <td>GBR</td>\n",
       "      <td>EUR</td>\n",
       "      <td>male</td>\n",
       "    </tr>\n",
       "    <tr>\n",
       "      <th>HG00097</th>\n",
       "      <td>GBR</td>\n",
       "      <td>EUR</td>\n",
       "      <td>female</td>\n",
       "    </tr>\n",
       "  </tbody>\n",
       "</table>\n",
       "</div>"
      ],
      "text/plain": [
       "         pop super_pop  gender\n",
       "sample                        \n",
       "HG00096  GBR       EUR    male\n",
       "HG00097  GBR       EUR  female"
      ]
     },
     "execution_count": 27,
     "metadata": {},
     "output_type": "execute_result"
    }
   ],
   "source": [
    "lbl.head(2)"
   ]
  },
  {
   "cell_type": "code",
   "execution_count": 32,
   "metadata": {},
   "outputs": [
    {
     "data": {
      "text/html": [
       "<div>\n",
       "<style scoped>\n",
       "    .dataframe tbody tr th:only-of-type {\n",
       "        vertical-align: middle;\n",
       "    }\n",
       "\n",
       "    .dataframe tbody tr th {\n",
       "        vertical-align: top;\n",
       "    }\n",
       "\n",
       "    .dataframe thead th {\n",
       "        text-align: right;\n",
       "    }\n",
       "</style>\n",
       "<table border=\"1\" class=\"dataframe\">\n",
       "  <thead>\n",
       "    <tr style=\"text-align: right;\">\n",
       "      <th></th>\n",
       "      <th>pop</th>\n",
       "      <th>super_pop</th>\n",
       "      <th>gender</th>\n",
       "      <th>1</th>\n",
       "      <th>2</th>\n",
       "      <th>3</th>\n",
       "      <th>4</th>\n",
       "      <th>5</th>\n",
       "      <th>6</th>\n",
       "      <th>7</th>\n",
       "      <th>...</th>\n",
       "      <th>11</th>\n",
       "      <th>12</th>\n",
       "      <th>13</th>\n",
       "      <th>14</th>\n",
       "      <th>15</th>\n",
       "      <th>16</th>\n",
       "      <th>17</th>\n",
       "      <th>18</th>\n",
       "      <th>19</th>\n",
       "      <th>20</th>\n",
       "    </tr>\n",
       "  </thead>\n",
       "  <tbody>\n",
       "    <tr>\n",
       "      <th>HG00096</th>\n",
       "      <td>GBR</td>\n",
       "      <td>EUR</td>\n",
       "      <td>male</td>\n",
       "      <td>20.5863</td>\n",
       "      <td>38.3197</td>\n",
       "      <td>7.38349</td>\n",
       "      <td>-12.4928</td>\n",
       "      <td>1.778960</td>\n",
       "      <td>2.170390</td>\n",
       "      <td>0.047681</td>\n",
       "      <td>...</td>\n",
       "      <td>6.65693</td>\n",
       "      <td>2.27054</td>\n",
       "      <td>1.48416</td>\n",
       "      <td>-0.915908</td>\n",
       "      <td>6.72022</td>\n",
       "      <td>0.490435</td>\n",
       "      <td>-7.53264</td>\n",
       "      <td>11.610000</td>\n",
       "      <td>3.37071</td>\n",
       "      <td>0.577314</td>\n",
       "    </tr>\n",
       "    <tr>\n",
       "      <th>HG00097</th>\n",
       "      <td>GBR</td>\n",
       "      <td>EUR</td>\n",
       "      <td>female</td>\n",
       "      <td>20.4292</td>\n",
       "      <td>39.0879</td>\n",
       "      <td>6.96485</td>\n",
       "      <td>-10.2921</td>\n",
       "      <td>0.691669</td>\n",
       "      <td>0.458462</td>\n",
       "      <td>-1.351560</td>\n",
       "      <td>...</td>\n",
       "      <td>8.05282</td>\n",
       "      <td>-2.16934</td>\n",
       "      <td>-10.98140</td>\n",
       "      <td>-5.332690</td>\n",
       "      <td>3.26468</td>\n",
       "      <td>0.209461</td>\n",
       "      <td>-4.87626</td>\n",
       "      <td>-0.508729</td>\n",
       "      <td>-9.18354</td>\n",
       "      <td>-2.454350</td>\n",
       "    </tr>\n",
       "  </tbody>\n",
       "</table>\n",
       "<p>2 rows × 23 columns</p>\n",
       "</div>"
      ],
      "text/plain": [
       "         pop super_pop  gender        1        2        3        4         5  \\\n",
       "HG00096  GBR       EUR    male  20.5863  38.3197  7.38349 -12.4928  1.778960   \n",
       "HG00097  GBR       EUR  female  20.4292  39.0879  6.96485 -10.2921  0.691669   \n",
       "\n",
       "                6         7  ...       11       12        13        14  \\\n",
       "HG00096  2.170390  0.047681  ...  6.65693  2.27054   1.48416 -0.915908   \n",
       "HG00097  0.458462 -1.351560  ...  8.05282 -2.16934 -10.98140 -5.332690   \n",
       "\n",
       "              15        16       17         18       19        20  \n",
       "HG00096  6.72022  0.490435 -7.53264  11.610000  3.37071  0.577314  \n",
       "HG00097  3.26468  0.209461 -4.87626  -0.508729 -9.18354 -2.454350  \n",
       "\n",
       "[2 rows x 23 columns]"
      ]
     },
     "execution_count": 32,
     "metadata": {},
     "output_type": "execute_result"
    }
   ],
   "source": [
    "# put them together\n",
    "data = pd.concat([lbl, pc], axis = 1)\n",
    "data.head(2)"
   ]
  },
  {
   "cell_type": "markdown",
   "metadata": {},
   "source": [
    "### Import our sample"
   ]
  },
  {
   "cell_type": "code",
   "execution_count": 60,
   "metadata": {},
   "outputs": [],
   "source": [
    "me = pd.read_csv(\"../results/ancestry/1000G.pca.txt\", sep = '\\t', header = None, index_col = 0)\n",
    "my_pc1 = me.iloc[0][1]\n",
    "my_pc2 = me.iloc[0][2]"
   ]
  },
  {
   "cell_type": "markdown",
   "metadata": {},
   "source": [
    "### Visualize our sample on first two principal components\n",
    "\n",
    "We color by superpopulations (Europe, East Asia, America, South East Asia, Africa) for convenience.\n",
    "\n",
    "You can customize colors, marker shape and size and adjust position of the text depending on where you are in this map."
   ]
  },
  {
   "cell_type": "code",
   "execution_count": 105,
   "metadata": {},
   "outputs": [
    {
     "data": {
      "image/png": "[encoded data removed]",
      "text/plain": [
       "<Figure size 640x480 with 1 Axes>"
      ]
     },
     "metadata": {},
     "output_type": "display_data"
    }
   ],
   "source": [
    "# plot 1000 genomes and color by superpopulation\n",
    "ax = sns.scatterplot(data=data, x = 1, y = 2, hue = 'super_pop', palette = \"autumn\", s = 20)\n",
    "# add a star where our genome is\n",
    "ax.scatter(my_pc1, my_pc2, c = 'skyblue', edgecolors='black', marker = \"*\", s = 100)\n",
    "# add text\n",
    "ax.text(my_pc1, my_pc2+2, \"You are here\", horizontalalignment = \"center\")\n",
    "plt.savefig('../images/pca.png', dpi = 150);"
   ]
  }
 ],
 "metadata": {
  "kernelspec": {
   "display_name": "personal-genome",
   "language": "python",
   "name": "python3"
  },
  "language_info": {
   "codemirror_mode": {
    "name": "ipython",
    "version": 3
   },
   "file_extension": ".py",
   "mimetype": "text/x-python",
   "name": "python",
   "nbconvert_exporter": "python",
   "pygments_lexer": "ipython3",
   "version": "3.12.0"
  }
 },
 "nbformat": 4,
 "nbformat_minor": 2
}
